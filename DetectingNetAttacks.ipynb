{
 "cells": [
  {
   "cell_type": "markdown",
   "metadata": {},
   "source": [
    "# Detecting attacks\n",
    " we will attmept to detect network attacks from netflow data"
   ]
  },
  {
   "cell_type": "code",
   "execution_count": 1,
   "metadata": {
    "collapsed": true
   },
   "outputs": [],
   "source": [
    "# These are all the modules we'll be using later. Make sure you can import them\n",
    "# before proceeding further\n",
    "\n",
    "import numpy as np # linear algebra\n",
    "import pandas as pd # data processing, CSV file I/O (e.g. pd.read_csv)\n",
    "import matplotlib.pyplot as plt\n",
    "import matplotlib.cm as cm\n",
    "import os\n",
    "import sys\n",
    "import time\n",
    "import random\n",
    "import tarfile\n",
    "import zipfile\n",
    "#import StringIO\n",
    "from IPython.display import display, Image\n",
    "\n",
    "from sklearn.preprocessing import LabelEncoder\n",
    "#from scipy import ndimage\n",
    "from sklearn.cross_validation import train_test_split, StratifiedShuffleSplit\n",
    "from sklearn.linear_model import LogisticRegression\n",
    "from sklearn.cluster import KMeans,MeanShift\n",
    "from sklearn.naive_bayes import GaussianNB\n",
    "from sklearn.tree import DecisionTreeClassifier\n",
    "from sklearn.neighbors import KNeighborsClassifier\n",
    "from sklearn.svm import SVC, LinearSVC\n",
    "from sklearn import linear_model, decomposition, datasets, ensemble\n",
    "from sklearn.pipeline import Pipeline\n",
    "from sklearn.grid_search import GridSearchCV\n",
    "from sklearn.metrics import make_scorer,precision_score, recall_score, f1_score, average_precision_score, accuracy_score\n",
    "\n",
    "\n",
    "datadir=\"./data/TalkingData/\"\n",
    "\n",
    "# Config the matlotlib backend as plotting inline in IPython\n",
    "%matplotlib inline"
   ]
  },
  {
   "cell_type": "code",
   "execution_count": 2,
   "metadata": {
    "collapsed": true
   },
   "outputs": [],
   "source": [
    "def loadData(datadir,filename):\n",
    "    # Load the wholesale customers dataset\n",
    "    #data = pd.read_csv(filename)\n",
    "    data = ''\n",
    "    print (\"loading: \"+datadir+filename)\n",
    "    try:\n",
    "        if zipfile.is_zipfile(datadir+filename):\n",
    "            z = zipfile.ZipFile(datadir+filename)\n",
    "            filename = z.open(filename[:-4])\n",
    "        else:\n",
    "            filename=datadir+filename\n",
    "        data = pd.read_csv(filename, parse_dates=True)  \n",
    "        print (\"Dataset has {} samples with {} features each.\".format(*data.shape))\n",
    "    except Exception as e:\n",
    "        print (\"Dataset could not be loaded. Is the dataset missing?\")\n",
    "        print(e)\n",
    "    return data\n",
    "\n",
    "def writeData(data,filename):\n",
    "    # Load the wholesale customers dataset\n",
    "    try:\n",
    "        data.to_csv(filename, index=False)\n",
    "    except Exception as e:\n",
    "        print (\"Dataset could not be written.\")\n",
    "        print(e)\n",
    "    verify=[]\n",
    "    try:\n",
    "        with open(filename, 'r') as f:\n",
    "            for line in f:\n",
    "                verify.append(line)\n",
    "        f.closed\n",
    "        return verify[:5]\n",
    "    except IOError:\n",
    "        sys.std"
   ]
  },
  {
   "cell_type": "code",
   "execution_count": 3,
   "metadata": {
    "collapsed": true
   },
   "outputs": [],
   "source": [
    "   \n",
    "def runPredict(clf,data, display=True):\n",
    "    index=random.randrange(len(data))\n",
    "    y_pred = clf.predict_proba(data[index].reshape(1, -1))[0]\n",
    "    if display==True:\n",
    "        print \"for:\",data[index], \"\\nprediction:\",y_pred\n",
    "    return y_pred\n",
    "\n",
    "def train_classifier(clf, X_train, y_train):\n",
    "    start = time.time()\n",
    "    clf.fit(X_train, y_train)\n",
    "    end = time.time()\n",
    "    return end - start\n",
    "    #print \"Done!\\nTraining time (secs): {:.3f}\".format(end - start)\n",
    "    \n",
    "# Predict on training set and compute F1 score\n",
    "def predict_labels(clf, features, target):\n",
    "    #print \"Predicting labels using {}...\".format(clf.__class__.__name__)\n",
    "    start = time.time()\n",
    "    y_pred = clf.predict(features)\n",
    "    end = time.time()\n",
    "    #print \"Done!\\nPrediction time (secs): {:.3f}\".format(end - start)\n",
    "    return f1_score(target, y_pred,average='micro'),end - start #(None, 'micro', 'macro', 'weighted', 'samples')\n",
    "\n",
    "# Train and predict using different training set sizes\n",
    "def train_predict(clf, X_train, y_train, X_test, y_test):\n",
    "\n",
    "    timeTrain=train_classifier(clf, X_train, y_train)\n",
    "    predict_train,trainDelta=predict_labels(clf, X_train, y_train)\n",
    "    predict_test,testDelta=predict_labels(clf, X_test, y_test)\n",
    "    return predict_test,testDelta,predict_train,trainDelta,timeTrain # let's return the scores, so we can use them for comparisons\n",
    "\n",
    "#for each data set size run and plot a train/test\n",
    "def runTests(test_sizes, train_dataset,train_labels,test_dataset,test_labels, clf=\"\", usePCA=False):\n",
    "    test_f1=[]\n",
    "    train_f1=[]\n",
    "\n",
    "    for test_size in test_sizes:\n",
    "        # Set up the train set for the test size\n",
    "        X_train=train_dataset[:test_size]\n",
    "        y_train=train_labels[:test_size]\n",
    "        # Same for test\n",
    "        X_test=test_dataset[-test_size:]\n",
    "        y_test=test_labels[-test_size:]\n",
    "\n",
    " \n",
    "        if clf == \"\":\n",
    "            clf=LogisticRegression(multi_class='multinomial', solver='lbfgs', random_state=42,  max_iter=200,C=.1, n_jobs = -1)\n",
    "            \n",
    "        if usePCA ==True:\n",
    "            pca=decomposition.PCA(n_components = 14*14)\n",
    "            clf=Pipeline(steps=[('pca', pca), ('classifier', clf )]) # set up the clf as a pipeline ])\n",
    "        # Fit model to training data\n",
    "        test,testDelta,train,trainDelta,timeTrain = train_predict(clf, X_train, y_train, X_test, y_test)\n",
    "        test_f1.append(test)\n",
    "        train_f1.append(train)\n",
    "        print (\"------------------------------------------\")\n",
    "        print (\"Training set size: {},\".format(len(X_train)),\"Train time (secs): {:.3f}\".format(timeTrain))\n",
    "        print (\"F1 score for training set: {},\".format(train),\"Prediction time (secs): {:.3f}\".format(trainDelta))\n",
    "        print (\"F1 score for test set: {},\".format(test),\"Prediction time (secs): {:.3f}\".format(testDelta))\n",
    "\n",
    "    \n",
    "    print (\"\\n\",clf)\n",
    "    print(\"Test F1:{}\".format(test_f1))\n",
    "    display(\"Train F1:{}\".format(train_f1))\n",
    "    plt.plot(test_f1,label=\"Test F1\")\n",
    "    plt.plot(train_f1,label=\"Train F1\")\n",
    "    plt.legend(loc=2)\n",
    "    plt.title(\"F1 Score per run\")\n",
    "    plt.show()\n",
    "    \n",
    "    return clf    "
   ]
  },
  {
   "cell_type": "markdown",
   "metadata": {},
   "source": [
    "## Data examination"
   ]
  },
  {
   "cell_type": "code",
   "execution_count": 4,
   "metadata": {
    "collapsed": false
   },
   "outputs": [
    {
     "name": "stdout",
     "output_type": "stream",
     "text": [
      "loading: ./ds_1_with_fields.csv.zip\n",
      "Dataset has 337940 samples with 10 features each.\n",
      "<class 'pandas.core.frame.DataFrame'>\n",
      "RangeIndex: 337940 entries, 0 to 337939\n",
      "Data columns (total 10 columns):\n",
      "source_ip           337940 non-null object\n",
      "destination_ip      337940 non-null object\n",
      "start_time          337940 non-null datetime64[ns]\n",
      "source_port         337940 non-null int64\n",
      "destination_port    337940 non-null int64\n",
      "flags               337940 non-null object\n",
      "site                337940 non-null object\n",
      "asn                 337940 non-null object\n",
      "num_packets         337940 non-null int64\n",
      "num_bytes           337940 non-null int64\n",
      "dtypes: datetime64[ns](1), int64(4), object(5)\n",
      "memory usage: 25.8+ MB\n"
     ]
    },
    {
     "data": {
      "text/plain": [
       "None"
      ]
     },
     "metadata": {},
     "output_type": "display_data"
    },
    {
     "data": {
      "text/html": [
       "<div>\n",
       "<table border=\"1\" class=\"dataframe\">\n",
       "  <thead>\n",
       "    <tr style=\"text-align: right;\">\n",
       "      <th></th>\n",
       "      <th>source_ip</th>\n",
       "      <th>destination_ip</th>\n",
       "      <th>start_time</th>\n",
       "      <th>source_port</th>\n",
       "      <th>destination_port</th>\n",
       "      <th>flags</th>\n",
       "      <th>site</th>\n",
       "      <th>asn</th>\n",
       "      <th>num_packets</th>\n",
       "      <th>num_bytes</th>\n",
       "    </tr>\n",
       "  </thead>\n",
       "  <tbody>\n",
       "    <tr>\n",
       "      <th>271424</th>\n",
       "      <td>135.0777d.04511.232</td>\n",
       "      <td>135.b1d10.091d5.60</td>\n",
       "      <td>1970-01-01 00:00:01.415798153</td>\n",
       "      <td>47912</td>\n",
       "      <td>22</td>\n",
       "      <td>----S-,-A----,-A---F,-AP---</td>\n",
       "      <td>c9f0f</td>\n",
       "      <td>c4ca4</td>\n",
       "      <td>5</td>\n",
       "      <td>293</td>\n",
       "    </tr>\n",
       "    <tr>\n",
       "      <th>187187</th>\n",
       "      <td>135.0777d.bd4c9.37</td>\n",
       "      <td>135.b1d10.091d5.182</td>\n",
       "      <td>1970-01-01 00:00:01.415787357</td>\n",
       "      <td>64107</td>\n",
       "      <td>22</td>\n",
       "      <td>----S-,-A----,-A---F,-AP---</td>\n",
       "      <td>c9f0f</td>\n",
       "      <td>c4ca4</td>\n",
       "      <td>48</td>\n",
       "      <td>4750</td>\n",
       "    </tr>\n",
       "    <tr>\n",
       "      <th>162330</th>\n",
       "      <td>135.0777d.04511.232</td>\n",
       "      <td>135.b1d10.d1c38.187</td>\n",
       "      <td>1970-01-01 00:00:01.415784329</td>\n",
       "      <td>33727</td>\n",
       "      <td>22</td>\n",
       "      <td>----S-,---R--,-A----,-A---F,-AP---</td>\n",
       "      <td>45c48</td>\n",
       "      <td>c4ca4</td>\n",
       "      <td>7</td>\n",
       "      <td>385</td>\n",
       "    </tr>\n",
       "  </tbody>\n",
       "</table>\n",
       "</div>"
      ],
      "text/plain": [
       "                  source_ip       destination_ip  \\\n",
       "271424  135.0777d.04511.232   135.b1d10.091d5.60   \n",
       "187187   135.0777d.bd4c9.37  135.b1d10.091d5.182   \n",
       "162330  135.0777d.04511.232  135.b1d10.d1c38.187   \n",
       "\n",
       "                          start_time  source_port  destination_port  \\\n",
       "271424 1970-01-01 00:00:01.415798153        47912                22   \n",
       "187187 1970-01-01 00:00:01.415787357        64107                22   \n",
       "162330 1970-01-01 00:00:01.415784329        33727                22   \n",
       "\n",
       "                                     flags   site    asn  num_packets  \\\n",
       "271424         ----S-,-A----,-A---F,-AP---  c9f0f  c4ca4            5   \n",
       "187187         ----S-,-A----,-A---F,-AP---  c9f0f  c4ca4           48   \n",
       "162330  ----S-,---R--,-A----,-A---F,-AP---  45c48  c4ca4            7   \n",
       "\n",
       "        num_bytes  \n",
       "271424        293  \n",
       "187187       4750  \n",
       "162330        385  "
      ]
     },
     "metadata": {},
     "output_type": "display_data"
    }
   ],
   "source": [
    "datadir='./'\n",
    "filename='ds_1_with_fields.csv.zip'\n",
    "data=loadData(datadir,filename)\n",
    "data['start_time']=pd.to_datetime(data['start_time'])\n",
    "\n",
    "display(data.info())\n",
    "display(data.sample(3))\n",
    "\n"
   ]
  },
  {
   "cell_type": "code",
   "execution_count": 5,
   "metadata": {
    "collapsed": false,
    "scrolled": false
   },
   "outputs": [
    {
     "name": "stdout",
     "output_type": "stream",
     "text": [
      "number of unique source_ip: 585\n",
      "mode of source_ip: 135.0777d.04511.237\n",
      "\n",
      "\n",
      "number of unique destination_ip: 594\n",
      "mode of destination_ip: 135.0777d.04511.237\n",
      "\n",
      "\n",
      "number of unique source_port: 27487\n",
      "mode of source_port: 22\n",
      "\n",
      "\n",
      "number of unique destination_port: 27480\n",
      "mode of destination_port: 22\n",
      "\n",
      "\n",
      "number of unique site: 3\n",
      "number of unique asn: 2\n",
      "\n",
      "\n",
      "avg num_packets: 1016.09807362\n",
      "avg num_bytes: 867904.082035\n",
      "timeframe -1 days +23:59:59.999333\n",
      "\n",
      "\n"
     ]
    }
   ],
   "source": [
    "print \"number of unique source_ip:\", len(data.source_ip.unique())\n",
    "print \"mode of source_ip:\", data.source_ip.mode().values[0]\n",
    "print \"\\n\"\n",
    "print \"number of unique destination_ip:\", len(data.destination_ip.unique())\n",
    "print \"mode of destination_ip:\", data.destination_ip.mode().values[0]\n",
    "print \"\\n\"\n",
    "print \"number of unique source_port:\", len(data.source_port.unique())\n",
    "print \"mode of source_port:\", data.source_port.mode().values[0]\n",
    "print \"\\n\"\n",
    "print \"number of unique destination_port:\", len(data.destination_port.unique())\n",
    "print \"mode of destination_port:\", data.destination_port.mode().values[0]\n",
    "print \"\\n\"\n",
    "print \"number of unique site:\", len(data.site.unique())\n",
    "print \"number of unique asn:\", len(data.asn.unique())\n",
    "print \"\\n\"\n",
    "print \"avg num_packets:\", data.num_packets.mean()\n",
    "print \"avg num_bytes:\", data.num_bytes.mean()\n",
    "print \"timeframe\", data.start_time.min()-data.start_time.max()\n",
    "print \"\\n\"\n"
   ]
  },
  {
   "cell_type": "code",
   "execution_count": 6,
   "metadata": {
    "collapsed": true
   },
   "outputs": [],
   "source": [
    "group_by_site=data.groupby('site') \n",
    "group_by_destIP=data.groupby('destination_ip') \n",
    "group_by_sourceIP=data.groupby('source_ip') "
   ]
  },
  {
   "cell_type": "code",
   "execution_count": 7,
   "metadata": {
    "collapsed": false
   },
   "outputs": [
    {
     "name": "stdout",
     "output_type": "stream",
     "text": [
      "source IP's per site:\n"
     ]
    },
    {
     "data": {
      "text/plain": [
       "site\n",
       "45c48    301\n",
       "c9f0f    297\n",
       "e2593      1\n",
       "dtype: int64"
      ]
     },
     "metadata": {},
     "output_type": "display_data"
    },
    {
     "data": {
      "image/png": "[encoded data removed]",
      "text/plain": [
       "<matplotlib.figure.Figure at 0x7fbb03f3d3d0>"
      ]
     },
     "metadata": {},
     "output_type": "display_data"
    }
   ],
   "source": [
    "print \"source IP's per site:\"\n",
    "source_IP_by_site= group_by_site.apply(lambda x: len(x['source_ip'].unique()))\n",
    "display (source_IP_by_site)\n",
    "source_IP_by_site.plot(kind='bar')\n",
    "plt.show()\n",
    "plt.close()"
   ]
  },
  {
   "cell_type": "code",
   "execution_count": 8,
   "metadata": {
    "collapsed": false
   },
   "outputs": [
    {
     "name": "stdout",
     "output_type": "stream",
     "text": [
      "destination_ip's per site:\n"
     ]
    },
    {
     "data": {
      "text/plain": [
       "site\n",
       "45c48    301\n",
       "c9f0f    297\n",
       "e2593      9\n",
       "dtype: int64"
      ]
     },
     "metadata": {},
     "output_type": "display_data"
    },
    {
     "data": {
      "image/png": "[encoded data removed]",
      "text/plain": [
       "<matplotlib.figure.Figure at 0x7fbb03ec73d0>"
      ]
     },
     "metadata": {},
     "output_type": "display_data"
    }
   ],
   "source": [
    "print \"destination_ip's per site:\"\n",
    "dest_IP_by_site= group_by_site.apply(lambda x: len(x['destination_ip'].unique()))\n",
    "display (dest_IP_by_site)\n",
    "dest_IP_by_site.plot(kind='bar')\n",
    "plt.show()\n",
    "plt.close()"
   ]
  },
  {
   "cell_type": "code",
   "execution_count": 9,
   "metadata": {
    "collapsed": false
   },
   "outputs": [
    {
     "name": "stdout",
     "output_type": "stream",
     "text": [
      "source_port's per site:\n"
     ]
    },
    {
     "data": {
      "text/plain": [
       "site\n",
       "45c48    20981\n",
       "c9f0f    23087\n",
       "e2593        2\n",
       "dtype: int64"
      ]
     },
     "metadata": {},
     "output_type": "display_data"
    },
    {
     "data": {
      "image/png": "[encoded data removed]",
      "text/plain": [
       "<matplotlib.figure.Figure at 0x7fbb03274810>"
      ]
     },
     "metadata": {},
     "output_type": "display_data"
    }
   ],
   "source": [
    "print \"source_port's per site:\"\n",
    "source_port_by_site = group_by_site.apply(lambda x: len(x['source_port'].unique()))\n",
    "display (source_port_by_site)\n",
    "source_port_by_site.plot(kind='bar')\n",
    "plt.show()\n",
    "plt.close()"
   ]
  },
  {
   "cell_type": "code",
   "execution_count": 10,
   "metadata": {
    "collapsed": false
   },
   "outputs": [
    {
     "name": "stdout",
     "output_type": "stream",
     "text": [
      "destination_port's per site:\n"
     ]
    },
    {
     "data": {
      "text/plain": [
       "site\n",
       "45c48    20986\n",
       "c9f0f    23079\n",
       "e2593        1\n",
       "dtype: int64"
      ]
     },
     "metadata": {},
     "output_type": "display_data"
    },
    {
     "data": {
      "image/png": "[encoded data removed]",
      "text/plain": [
       "<matplotlib.figure.Figure at 0x7fbb03200f50>"
      ]
     },
     "metadata": {},
     "output_type": "display_data"
    }
   ],
   "source": [
    "print \"destination_port's per site:\"\n",
    "dest_port_by_site = group_by_site.apply(lambda x: len(x['destination_port'].unique()))\n",
    "display (dest_port_by_site)\n",
    "dest_port_by_site.plot(kind='bar')\n",
    "plt.show()\n",
    "plt.close()"
   ]
  },
  {
   "cell_type": "code",
   "execution_count": 11,
   "metadata": {
    "collapsed": false
   },
   "outputs": [
    {
     "data": {
      "text/plain": [
       "destination_ip\n",
       "135.b1d10.6f3ef.102    129\n",
       "135.b1d10.b1d10.28       1\n",
       "135.b1d10.091d5.63     137\n",
       "135.b1d10.d1c38.153    135\n",
       "135.b1d10.9cfdf.74     135\n",
       "dtype: int64"
      ]
     },
     "metadata": {},
     "output_type": "display_data"
    },
    {
     "name": "stdout",
     "output_type": "stream",
     "text": [
      "mean # of destIP_by_source_port  140.001683502\n"
     ]
    }
   ],
   "source": [
    "destIP_by_source_port = group_by_destIP.apply(lambda x: len(x['source_port'].unique()))\n",
    "display(destIP_by_source_port.sample(5))\n",
    "print \"mean # of destIP_by_source_port \", destIP_by_source_port.mean()\n",
    "#dest_port_by_site.plot(kind='bar')\n",
    "#plt.show()\n",
    "#plt.close()"
   ]
  },
  {
   "cell_type": "code",
   "execution_count": 12,
   "metadata": {
    "collapsed": false
   },
   "outputs": [
    {
     "data": {
      "text/plain": [
       "source_ip\n",
       "135.b1d10.b1d10.42     129\n",
       "135.b1d10.d1c38.79     138\n",
       "135.b1d10.b1d10.125    136\n",
       "135.b1d10.d1c38.64     134\n",
       "135.b1d10.091d5.67     133\n",
       "dtype: int64"
      ]
     },
     "metadata": {},
     "output_type": "display_data"
    },
    {
     "name": "stdout",
     "output_type": "stream",
     "text": [
      "mean # of sourceIP_by_dest_port  141.953846154\n"
     ]
    }
   ],
   "source": [
    "sourceIP_by_dest_port = group_by_sourceIP.apply(lambda x: len(x['destination_port'].unique()))\n",
    "display(sourceIP_by_dest_port.sample(5))\n",
    "print \"mean # of sourceIP_by_dest_port \", sourceIP_by_dest_port.mean()\n",
    "#dest_port_by_site.plot(kind='bar')\n",
    "#plt.show()\n",
    "#plt.close()"
   ]
  },
  {
   "cell_type": "markdown",
   "metadata": {},
   "source": [
    "### take a look at a graph of bytes/packets"
   ]
  },
  {
   "cell_type": "code",
   "execution_count": 13,
   "metadata": {
    "collapsed": false
   },
   "outputs": [
    {
     "name": "stderr",
     "output_type": "stream",
     "text": [
      "/usr/lib/python2.7/dist-packages/matplotlib/collections.py:571: FutureWarning: elementwise comparison failed; returning scalar instead, but in the future will perform elementwise comparison\n",
      "  if self._edgecolors == str('face'):\n"
     ]
    },
    {
     "data": {
      "image/png": "[encoded data removed]",
      "text/plain": [
       "<matplotlib.figure.Figure at 0x7fbb030e5cd0>"
      ]
     },
     "metadata": {},
     "output_type": "display_data"
    },
    {
     "data": {
      "text/plain": [
       "<matplotlib.figure.Figure at 0x7fbb031637d0>"
      ]
     },
     "metadata": {},
     "output_type": "display_data"
    }
   ],
   "source": [
    "data.plot(kind='scatter',x='num_packets',y='num_bytes')\n",
    "plt.figure(figsize=(14,10))\n",
    "plt.show()\n",
    "plt.close()"
   ]
  },
  {
   "cell_type": "markdown",
   "metadata": {},
   "source": [
    "### Cluster the data on ip and port"
   ]
  },
  {
   "cell_type": "code",
   "execution_count": 14,
   "metadata": {
    "collapsed": true
   },
   "outputs": [],
   "source": [
    "def kmeansPlusmeanshift(data):\n",
    "    startingClusterSize=int(len(data)*.05)\n",
    "    print \"kmeans.... for {} clusters\".format(startingClusterSize)\n",
    "    k_means =KMeans(n_clusters=startingClusterSize,n_jobs=10)\n",
    "    k_means.fit(data.sample(frac=0.25).values)\n",
    "    clusters=k_means.cluster_centers_\n",
    "    print clusters[:15]\n",
    "\n",
    "    #use the cluster centers of the guessed clusters to get an estimate of actual numbers of clusters. doing this for speed increase!\n",
    "    print \"\\nmeanshift...\"\n",
    "    meanshift=MeanShift(n_jobs=10)\n",
    "    meanshift.fit(clusters)\n",
    "    newcenters=meanshift.cluster_centers_\n",
    "    print newcenters[:15], \"\\nnum of clusters from meanshift:\",len(newcenters)\n",
    "\n",
    "    # use the new clusters number to predict each locations cluster\n",
    "    print \"\\nredo kmeans with new cluster number from meanshift +1 to account for sampling...\"\n",
    "    k_means =KMeans(n_clusters=len(newcenters)+1,n_jobs=10)\n",
    "    final_clusters=k_means.fit_predict(data.values)\n",
    "    return final_clusters"
   ]
  },
  {
   "cell_type": "code",
   "execution_count": 48,
   "metadata": {
    "collapsed": false,
    "scrolled": false
   },
   "outputs": [
    {
     "name": "stdout",
     "output_type": "stream",
     "text": [
      "sample clusters after kmeans:\n",
      "  [ 0.  0.  0.  0.  0.  0.  0.  0.  0.  0.  0.  0.  0.  0.  0.]\n",
      "number of clusters: 31\n",
      "count per cluster:\n",
      "  0.0  335142\n",
      " 29.0     488\n",
      " 14.0     459\n",
      "  8.0     333\n",
      " 19.0     293\n",
      "  2.0     247\n",
      "  5.0     205\n",
      " 30.0     205\n",
      " 13.0     194\n",
      " 24.0     139\n",
      " 25.0      64\n",
      " 16.0      53\n",
      " 26.0      34\n",
      " 18.0      22\n",
      " 27.0      21\n",
      " 10.0      13\n",
      "  3.0       5\n",
      "  4.0       4\n",
      " 20.0       3\n",
      "  7.0       3\n",
      " 15.0       2\n",
      " 23.0       2\n",
      "  1.0       1\n",
      " 28.0       1\n",
      " 22.0       1\n",
      "  6.0       1\n",
      "  9.0       1\n",
      " 21.0       1\n",
      " 12.0       1\n",
      " 17.0       1\n",
      " 11.0       1\n"
     ]
    }
   ],
   "source": [
    "clusteron=data.drop(['source_ip','destination_ip','site',\"asn\",'flags','start_time'],1)\n",
    "#display(clusteron.info())\n",
    "#final_clusters=kmeansPlusmeanshift(clusteron)\n",
    "\n",
    "# it's nice to not repeat this calculation--it's the slowest part of the job! note that it should be recalced if events changes\n",
    "final_clusters_fname=\"final_clusters.csv\"\n",
    "if os.path.isfile(final_clusters_fname):    \n",
    "    final_clusters=np.loadtxt(final_clusters_fname,  delimiter=\",\")\n",
    "    print \"sample clusters after kmeans:\\n \",final_clusters[:15]\n",
    "\n",
    "else:\n",
    "    print \"recalculating clusters...\"\n",
    "    final_clusters=kmeansPlusmeanshift(clusteron)\n",
    "    print \"sample clusters after kmeans:\\n \",final_clusters[:15]\n",
    "    # save the above for easier reload!\n",
    "    np.savetxt(final_clusters_fname, final_clusters, delimiter=\",\")\n",
    "\n",
    "numclusters=len(np.unique(final_clusters))\n",
    "print \"number of clusters:\",numclusters\n",
    "#print \"count per cluster:\\n\",pd.Series(final_clusters).value_counts()\n",
    "\n",
    "print \"count per cluster:\"\n",
    "for  cluster in pd.Series(final_clusters).value_counts().iteritems():\n",
    "    print \"{:5} {:>7}\".format(cluster[0], cluster[1])\n",
    "    \n",
    "\n"
   ]
  },
  {
   "cell_type": "code",
   "execution_count": 41,
   "metadata": {
    "collapsed": false
   },
   "outputs": [
    {
     "name": "stdout",
     "output_type": "stream",
     "text": [
      "<class 'pandas.core.frame.DataFrame'>\n",
      "RangeIndex: 337940 entries, 0 to 337939\n",
      "Data columns (total 11 columns):\n",
      "source_ip           337940 non-null object\n",
      "destination_ip      337940 non-null object\n",
      "start_time          337940 non-null datetime64[ns]\n",
      "source_port         337940 non-null int64\n",
      "destination_port    337940 non-null int64\n",
      "flags               337940 non-null object\n",
      "site                337940 non-null object\n",
      "asn                 337940 non-null object\n",
      "num_packets         337940 non-null int64\n",
      "num_bytes           337940 non-null int64\n",
      "clusters            337940 non-null float64\n",
      "dtypes: datetime64[ns](1), float64(1), int64(4), object(5)\n",
      "memory usage: 28.4+ MB\n"
     ]
    },
    {
     "data": {
      "text/plain": [
       "None"
      ]
     },
     "metadata": {},
     "output_type": "display_data"
    },
    {
     "data": {
      "text/html": [
       "<div>\n",
       "<table border=\"1\" class=\"dataframe\">\n",
       "  <thead>\n",
       "    <tr style=\"text-align: right;\">\n",
       "      <th></th>\n",
       "      <th>source_ip</th>\n",
       "      <th>destination_ip</th>\n",
       "      <th>start_time</th>\n",
       "      <th>source_port</th>\n",
       "      <th>destination_port</th>\n",
       "      <th>flags</th>\n",
       "      <th>site</th>\n",
       "      <th>asn</th>\n",
       "      <th>num_packets</th>\n",
       "      <th>num_bytes</th>\n",
       "      <th>clusters</th>\n",
       "    </tr>\n",
       "  </thead>\n",
       "  <tbody>\n",
       "    <tr>\n",
       "      <th>0</th>\n",
       "      <td>135.b1d10.d1c38.20</td>\n",
       "      <td>135.0777d.04511.237</td>\n",
       "      <td>1970-01-01 00:00:01.415749946</td>\n",
       "      <td>22</td>\n",
       "      <td>45092</td>\n",
       "      <td>-AP---</td>\n",
       "      <td>45c48</td>\n",
       "      <td>c4ca4</td>\n",
       "      <td>6</td>\n",
       "      <td>504</td>\n",
       "      <td>0.0</td>\n",
       "    </tr>\n",
       "    <tr>\n",
       "      <th>1</th>\n",
       "      <td>135.0777d.04511.237</td>\n",
       "      <td>135.b1d10.13fe9.91</td>\n",
       "      <td>1970-01-01 00:00:01.415477729</td>\n",
       "      <td>45603</td>\n",
       "      <td>22</td>\n",
       "      <td>-A----,-AP---</td>\n",
       "      <td>45c48</td>\n",
       "      <td>c4ca4</td>\n",
       "      <td>11</td>\n",
       "      <td>956</td>\n",
       "      <td>0.0</td>\n",
       "    </tr>\n",
       "    <tr>\n",
       "      <th>2</th>\n",
       "      <td>135.0777d.04511.237</td>\n",
       "      <td>135.b1d10.13fe9.71</td>\n",
       "      <td>1970-01-01 00:00:01.415702327</td>\n",
       "      <td>45596</td>\n",
       "      <td>22</td>\n",
       "      <td>-A----,-AP---</td>\n",
       "      <td>45c48</td>\n",
       "      <td>c4ca4</td>\n",
       "      <td>11</td>\n",
       "      <td>956</td>\n",
       "      <td>0.0</td>\n",
       "    </tr>\n",
       "    <tr>\n",
       "      <th>3</th>\n",
       "      <td>135.b1d10.d1c38.119</td>\n",
       "      <td>135.0777d.04511.237</td>\n",
       "      <td>1970-01-01 00:00:01.415754478</td>\n",
       "      <td>22</td>\n",
       "      <td>50107</td>\n",
       "      <td>-AP---</td>\n",
       "      <td>45c48</td>\n",
       "      <td>c4ca4</td>\n",
       "      <td>6</td>\n",
       "      <td>504</td>\n",
       "      <td>0.0</td>\n",
       "    </tr>\n",
       "    <tr>\n",
       "      <th>4</th>\n",
       "      <td>135.b1d10.13fe9.56</td>\n",
       "      <td>135.0777d.04511.237</td>\n",
       "      <td>1970-01-01 00:00:01.415749597</td>\n",
       "      <td>22</td>\n",
       "      <td>45580</td>\n",
       "      <td>-AP---</td>\n",
       "      <td>45c48</td>\n",
       "      <td>c4ca4</td>\n",
       "      <td>6</td>\n",
       "      <td>504</td>\n",
       "      <td>0.0</td>\n",
       "    </tr>\n",
       "    <tr>\n",
       "      <th>5</th>\n",
       "      <td>135.b1d10.d1c38.72</td>\n",
       "      <td>135.0777d.04511.237</td>\n",
       "      <td>1970-01-01 00:00:01.415745508</td>\n",
       "      <td>22</td>\n",
       "      <td>51595</td>\n",
       "      <td>-AP---</td>\n",
       "      <td>45c48</td>\n",
       "      <td>c4ca4</td>\n",
       "      <td>6</td>\n",
       "      <td>504</td>\n",
       "      <td>0.0</td>\n",
       "    </tr>\n",
       "    <tr>\n",
       "      <th>6</th>\n",
       "      <td>135.b1d10.d1c38.126</td>\n",
       "      <td>135.0777d.04511.237</td>\n",
       "      <td>1970-01-01 00:00:01.415754317</td>\n",
       "      <td>22</td>\n",
       "      <td>38662</td>\n",
       "      <td>-AP---</td>\n",
       "      <td>45c48</td>\n",
       "      <td>c4ca4</td>\n",
       "      <td>6</td>\n",
       "      <td>504</td>\n",
       "      <td>0.0</td>\n",
       "    </tr>\n",
       "    <tr>\n",
       "      <th>7</th>\n",
       "      <td>135.0777d.04511.237</td>\n",
       "      <td>135.b1d10.d1c38.37</td>\n",
       "      <td>1970-01-01 00:00:01.415427333</td>\n",
       "      <td>48823</td>\n",
       "      <td>22</td>\n",
       "      <td>-A----,-AP---</td>\n",
       "      <td>45c48</td>\n",
       "      <td>c4ca4</td>\n",
       "      <td>12</td>\n",
       "      <td>1008</td>\n",
       "      <td>0.0</td>\n",
       "    </tr>\n",
       "    <tr>\n",
       "      <th>8</th>\n",
       "      <td>135.0777d.04511.237</td>\n",
       "      <td>135.b1d10.d1c38.112</td>\n",
       "      <td>1970-01-01 00:00:01.415584036</td>\n",
       "      <td>51452</td>\n",
       "      <td>22</td>\n",
       "      <td>-A----,-AP---</td>\n",
       "      <td>45c48</td>\n",
       "      <td>c4ca4</td>\n",
       "      <td>12</td>\n",
       "      <td>1008</td>\n",
       "      <td>0.0</td>\n",
       "    </tr>\n",
       "    <tr>\n",
       "      <th>9</th>\n",
       "      <td>135.0777d.04511.237</td>\n",
       "      <td>135.b1d10.d1c38.20</td>\n",
       "      <td>1970-01-01 00:00:01.415582789</td>\n",
       "      <td>45092</td>\n",
       "      <td>22</td>\n",
       "      <td>-A----,-AP---</td>\n",
       "      <td>45c48</td>\n",
       "      <td>c4ca4</td>\n",
       "      <td>12</td>\n",
       "      <td>1008</td>\n",
       "      <td>0.0</td>\n",
       "    </tr>\n",
       "  </tbody>\n",
       "</table>\n",
       "</div>"
      ],
      "text/plain": [
       "             source_ip       destination_ip                    start_time  \\\n",
       "0   135.b1d10.d1c38.20  135.0777d.04511.237 1970-01-01 00:00:01.415749946   \n",
       "1  135.0777d.04511.237   135.b1d10.13fe9.91 1970-01-01 00:00:01.415477729   \n",
       "2  135.0777d.04511.237   135.b1d10.13fe9.71 1970-01-01 00:00:01.415702327   \n",
       "3  135.b1d10.d1c38.119  135.0777d.04511.237 1970-01-01 00:00:01.415754478   \n",
       "4   135.b1d10.13fe9.56  135.0777d.04511.237 1970-01-01 00:00:01.415749597   \n",
       "5   135.b1d10.d1c38.72  135.0777d.04511.237 1970-01-01 00:00:01.415745508   \n",
       "6  135.b1d10.d1c38.126  135.0777d.04511.237 1970-01-01 00:00:01.415754317   \n",
       "7  135.0777d.04511.237   135.b1d10.d1c38.37 1970-01-01 00:00:01.415427333   \n",
       "8  135.0777d.04511.237  135.b1d10.d1c38.112 1970-01-01 00:00:01.415584036   \n",
       "9  135.0777d.04511.237   135.b1d10.d1c38.20 1970-01-01 00:00:01.415582789   \n",
       "\n",
       "   source_port  destination_port          flags   site    asn  num_packets  \\\n",
       "0           22             45092         -AP---  45c48  c4ca4            6   \n",
       "1        45603                22  -A----,-AP---  45c48  c4ca4           11   \n",
       "2        45596                22  -A----,-AP---  45c48  c4ca4           11   \n",
       "3           22             50107         -AP---  45c48  c4ca4            6   \n",
       "4           22             45580         -AP---  45c48  c4ca4            6   \n",
       "5           22             51595         -AP---  45c48  c4ca4            6   \n",
       "6           22             38662         -AP---  45c48  c4ca4            6   \n",
       "7        48823                22  -A----,-AP---  45c48  c4ca4           12   \n",
       "8        51452                22  -A----,-AP---  45c48  c4ca4           12   \n",
       "9        45092                22  -A----,-AP---  45c48  c4ca4           12   \n",
       "\n",
       "   num_bytes  clusters  \n",
       "0        504       0.0  \n",
       "1        956       0.0  \n",
       "2        956       0.0  \n",
       "3        504       0.0  \n",
       "4        504       0.0  \n",
       "5        504       0.0  \n",
       "6        504       0.0  \n",
       "7       1008       0.0  \n",
       "8       1008       0.0  \n",
       "9       1008       0.0  "
      ]
     },
     "metadata": {},
     "output_type": "display_data"
    },
    {
     "data": {
      "image/png": "[encoded data removed]",
      "text/plain": [
       "<matplotlib.figure.Figure at 0x7fbb02f80b50>"
      ]
     },
     "metadata": {},
     "output_type": "display_data"
    }
   ],
   "source": [
    "data['clusters']=final_clusters\n",
    "display(data.info())\n",
    "display(data.head(10))\n",
    "\n",
    "plt.figure(figsize=(14,10))\n",
    "colors = cm.rainbow(np.linspace(0, 1, numclusters))\n",
    "\n",
    "for cluster in range(numclusters):\n",
    "    plt.scatter(data[data['clusters']==cluster]['destination_port'],\n",
    "                data[data['clusters']==cluster]['num_packets'],              \n",
    "                color=colors[cluster])\n",
    "plt.title('post-clustering')\n",
    "plt.xlabel('destination_port')\n",
    "plt.ylabel('num_packets')\n",
    "plt.show()\n",
    "plt.close()"
   ]
  },
  {
   "cell_type": "code",
   "execution_count": 31,
   "metadata": {
    "collapsed": false
   },
   "outputs": [
    {
     "data": {
      "image/png": "[encoded data removed]",
      "text/plain": [
       "<matplotlib.figure.Figure at 0x7fbb02f00350>"
      ]
     },
     "metadata": {},
     "output_type": "display_data"
    }
   ],
   "source": [
    "data['clusters']=final_clusters\n",
    "\n",
    "numclusters=len(np.unique(final_clusters))\n",
    "\n",
    "plt.figure(figsize=(14,10))\n",
    "colors = cm.rainbow(np.linspace(0, 1, numclusters))\n",
    "\n",
    "cluster=0\n",
    "plt.scatter(data[data['clusters']==cluster]['destination_port'],\n",
    "            data[data['clusters']==cluster]['num_packets'],              \n",
    "            color=colors[cluster])\n",
    "plt.title('post-clustering')\n",
    "plt.xlabel('destination_port')\n",
    "plt.ylabel('num_packets')\n",
    "plt.show()\n",
    "plt.close()"
   ]
  },
  {
   "cell_type": "code",
   "execution_count": 115,
   "metadata": {
    "collapsed": false
   },
   "outputs": [
    {
     "name": "stdout",
     "output_type": "stream",
     "text": [
      "<class 'pandas.core.frame.DataFrame'>\n",
      "RangeIndex: 337940 entries, 0 to 337939\n",
      "Data columns (total 11 columns):\n",
      "source_ip           337940 non-null object\n",
      "destination_ip      337940 non-null object\n",
      "start_time          337940 non-null datetime64[ns]\n",
      "source_port         337940 non-null int64\n",
      "destination_port    337940 non-null int64\n",
      "flags               337940 non-null object\n",
      "site                337940 non-null object\n",
      "asn                 337940 non-null object\n",
      "num_packets         337940 non-null int64\n",
      "num_bytes           337940 non-null int64\n",
      "clusters            337940 non-null float64\n",
      "dtypes: datetime64[ns](1), float64(1), int64(4), object(5)\n",
      "memory usage: 28.4+ MB\n"
     ]
    },
    {
     "data": {
      "text/plain": [
       "None"
      ]
     },
     "metadata": {},
     "output_type": "display_data"
    },
    {
     "name": "stdout",
     "output_type": "stream",
     "text": [
      "Cluster:  0.0   Size: 335142\n",
      "  mode: source_port NULL destination_port NULL mean: num_packets nan  num_bytes nan \n",
      "Cluster: 29.0   Size:    488\n",
      "  mode: source_port NULL destination_port NULL mean: num_packets nan  num_bytes nan \n",
      "Cluster: 14.0   Size:    459\n",
      "  mode: source_port NULL destination_port NULL mean: num_packets nan  num_bytes nan \n",
      "Cluster:  8.0   Size:    333\n",
      "  mode: source_port NULL destination_port NULL mean: num_packets nan  num_bytes nan \n",
      "Cluster: 19.0   Size:    293\n",
      "  mode: source_port NULL destination_port NULL mean: num_packets nan  num_bytes nan \n",
      "Cluster:  2.0   Size:    247\n",
      "  mode: source_port NULL destination_port NULL mean: num_packets nan  num_bytes nan \n",
      "Cluster:  5.0   Size:    205\n",
      "  mode: source_port NULL destination_port NULL mean: num_packets nan  num_bytes nan \n",
      "Cluster: 30.0   Size:    205\n",
      "  mode: source_port NULL destination_port NULL mean: num_packets nan  num_bytes nan \n",
      "Cluster: 13.0   Size:    194\n",
      "  mode: source_port NULL destination_port NULL mean: num_packets nan  num_bytes nan \n",
      "Cluster: 24.0   Size:    139\n",
      "  mode: source_port NULL destination_port NULL mean: num_packets nan  num_bytes nan \n",
      "Cluster: 25.0   Size:     64\n",
      "  mode: source_port NULL destination_port NULL mean: num_packets nan  num_bytes nan \n",
      "Cluster: 16.0   Size:     53\n",
      "  mode: source_port NULL destination_port NULL mean: num_packets nan  num_bytes nan \n",
      "Cluster: 26.0   Size:     34\n",
      "  mode: source_port NULL destination_port NULL mean: num_packets nan  num_bytes nan \n",
      "Cluster: 18.0   Size:     22\n",
      "  mode: source_port NULL destination_port NULL mean: num_packets 336729.0  num_bytes 496921772.0 \n",
      "Cluster: 27.0   Size:     21\n",
      "  mode: source_port NULL destination_port NULL mean: num_packets 2122870.0  num_bytes 3167895688.0 \n",
      "Cluster: 10.0   Size:     13\n",
      "  mode: source_port 22 destination_port 22 mean: num_packets 82442.257732  num_bytes 90685494.6546 \n",
      "Cluster:  3.0   Size:      5\n",
      "  mode: source_port 22 destination_port 22 mean: num_packets 164063.990244  num_bytes 73771322.7415 \n",
      "Cluster:  4.0   Size:      4\n",
      "  mode: source_port 22 destination_port 43602 mean: num_packets 2492441.0  num_bytes 3720152734.0 \n",
      "Cluster: 20.0   Size:      3\n",
      "  mode: source_port 22 destination_port 55757 mean: num_packets 1249432.8  num_bytes 1864547776.0 \n",
      "Cluster:  7.0   Size:      3\n",
      "  mode: source_port 22 destination_port 55757 mean: num_packets 1249432.8  num_bytes 1864547776.0 \n",
      "Cluster: 15.0   Size:      2\n",
      "  mode: source_port 22 destination_port 33046 mean: num_packets 229155.708502  num_bytes 340889599.514 \n",
      "Cluster: 23.0   Size:      2\n",
      "  mode: source_port 22 destination_port 33046 mean: num_packets 229155.708502  num_bytes 340889599.514 \n",
      "Cluster:  1.0   Size:      1\n",
      "  mode: source_port NULL destination_port NULL mean: num_packets 1993504.0  num_bytes 2974172440.0 \n",
      "Cluster: 28.0   Size:      1\n",
      "  mode: source_port NULL destination_port NULL mean: num_packets 1993504.0  num_bytes 2974172440.0 \n",
      "Cluster: 22.0   Size:      1\n",
      "  mode: source_port NULL destination_port NULL mean: num_packets 1993504.0  num_bytes 2974172440.0 \n",
      "Cluster:  6.0   Size:      1\n",
      "  mode: source_port NULL destination_port NULL mean: num_packets 1993504.0  num_bytes 2974172440.0 \n",
      "Cluster:  9.0   Size:      1\n",
      "  mode: source_port NULL destination_port NULL mean: num_packets 1993504.0  num_bytes 2974172440.0 \n",
      "Cluster: 21.0   Size:      1\n",
      "  mode: source_port NULL destination_port NULL mean: num_packets 1993504.0  num_bytes 2974172440.0 \n",
      "Cluster: 12.0   Size:      1\n",
      "  mode: source_port NULL destination_port NULL mean: num_packets 1993504.0  num_bytes 2974172440.0 \n",
      "Cluster: 17.0   Size:      1\n",
      "  mode: source_port NULL destination_port NULL mean: num_packets 1993504.0  num_bytes 2974172440.0 \n",
      "Cluster: 11.0   Size:      1\n",
      "  mode: source_port NULL destination_port NULL mean: num_packets 1993504.0  num_bytes 2974172440.0 \n"
     ]
    }
   ],
   "source": [
    "display(data.info())\n",
    "\n",
    "def clustermodeforfield(data,cluster,field):\n",
    "    cluster_mode=data[data['clusters']==cluster[1]][field].mode().values\n",
    "    if not cluster_mode.any() :\n",
    "        cluster_mode=[\"NULL\" ]\n",
    "    return cluster_mode[0]\n",
    "def clustermeanforfield(data,cluster,field):\n",
    "    cluster_mean=data[data['clusters']==cluster[1]][field].mean() \n",
    "    if not cluster_mean :\n",
    "        cluster_mean=\"NULL\"\n",
    "    return cluster_mean\n",
    "\n",
    "for  cluster in pd.Series(final_clusters).value_counts().iteritems():\n",
    "    print \"Cluster:{:5}   Size:{:>7}\".format(cluster[0], cluster[1])\n",
    "    \n",
    "    print \"  mode: source_port {} destination_port {} mean: num_packets {}  num_bytes {} \".format(\n",
    "                                      clustermodeforfield(data,cluster,field='source_port'),\n",
    "                                      clustermodeforfield(data,cluster,field='destination_port'),\n",
    "                                      clustermeanforfield(data,cluster,field='num_packets'),\n",
    "                                      clustermeanforfield(data,cluster,field='num_bytes'))\n"
   ]
  },
  {
   "cell_type": "markdown",
   "metadata": {},
   "source": [
    "### EOF"
   ]
  }
 ],
 "metadata": {
  "kernelspec": {
   "display_name": "Python 2",
   "language": "python",
   "name": "python2"
  },
  "language_info": {
   "codemirror_mode": {
    "name": "ipython",
    "version": 2
   },
   "file_extension": ".py",
   "mimetype": "text/x-python",
   "name": "python",
   "nbconvert_exporter": "python",
   "pygments_lexer": "ipython2",
   "version": "2.7.9"
  }
 },
 "nbformat": 4,
 "nbformat_minor": 0
}
